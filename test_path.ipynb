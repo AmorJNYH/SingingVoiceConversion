{
 "cells": [
  {
   "cell_type": "code",
   "execution_count": 11,
   "metadata": {},
   "outputs": [
    {
     "name": "stdout",
     "output_type": "stream",
     "text": [
      "['NJAT', 'MCUR', 'VKOW', 'KENN', 'ZHIY', 'SAMF', 'JLEE', 'PMAR', 'ADIZ', 'MPOL', 'JTAN', 'MPUR']\n"
     ]
    }
   ],
   "source": [
    "import sys\n",
    "sys.path.append('../')\n",
    "import os\n",
    "path=\"./wav\"\n",
    "a = [i for i in os.listdir(path)]\n",
    "print(a)"
   ]
  },
  {
   "cell_type": "markdown",
   "metadata": {},
   "source": []
  },
  {
   "cell_type": "code",
   "execution_count": 18,
   "metadata": {},
   "outputs": [],
   "source": [
    "folder_path = [os.path.join(path, name) for name in a]"
   ]
  },
  {
   "cell_type": "code",
   "execution_count": 14,
   "metadata": {},
   "outputs": [],
   "source": [
    "final = []\n",
    "for i in a:\n",
    "    folder_path = os.path.join(path, i)\n",
    "\n",
    "    for songid in os.listdir(folder_path):\n",
    "        #print(i,songid[:-4],os.path.join(folder_path, songid))\n",
    "        final.append([i,songid[:-4],os.path.join(folder_path, songid)])\n"
   ]
  },
  {
   "cell_type": "code",
   "execution_count": 29,
   "metadata": {},
   "outputs": [
    {
     "data": {
      "text/plain": [
       "{'NJAT': ['16', '15', '07', '20'],\n",
       " 'MCUR': ['17', '10', '04', '12'],\n",
       " 'VKOW': ['05', '11', '20', '19'],\n",
       " 'KENN': ['17', '10', '04', '12'],\n",
       " 'ZHIY': ['02', '03', '14', '06'],\n",
       " 'SAMF': ['01', '13', '09', '18'],\n",
       " 'JLEE': ['15', '05', '11', '08'],\n",
       " 'PMAR': ['15', '05', '11', '08'],\n",
       " 'ADIZ': ['01', '13', '09', '18'],\n",
       " 'MPOL': ['05', '11', '20', '19'],\n",
       " 'JTAN': ['16', '15', '07', '20'],\n",
       " 'MPUR': ['02', '03', '14', '06']}"
      ]
     },
     "execution_count": 29,
     "metadata": {},
     "output_type": "execute_result"
    }
   ],
   "source": [
    "wav_list = {}\n",
    "final = {}\n",
    "for i in a:\n",
    "    folder = os.path.join(path, i)\n",
    "    wav_list[i] = {}\n",
    "    final[i] = []\n",
    "    for songid in os.listdir(folder):\n",
    "        wav_list[i].append(os.path.join(folder, songid))\n",
    "        final[i][songid] = [].append(songid[:-4])\n",
    "\n",
    "final"
   ]
  },
  {
   "cell_type": "code",
   "execution_count": 32,
   "metadata": {},
   "outputs": [
    {
     "data": {
      "text/plain": [
       "'16'"
      ]
     },
     "execution_count": 32,
     "metadata": {},
     "output_type": "execute_result"
    }
   ],
   "source": [
    "d = \"AT/16.wav\"\n",
    "d[-6:-4]"
   ]
  },
  {
   "cell_type": "code",
   "execution_count": 19,
   "metadata": {},
   "outputs": [
    {
     "data": {
      "text/plain": [
       "['./wav/NJAT',\n",
       " './wav/MCUR',\n",
       " './wav/VKOW',\n",
       " './wav/KENN',\n",
       " './wav/ZHIY',\n",
       " './wav/SAMF',\n",
       " './wav/JLEE',\n",
       " './wav/PMAR',\n",
       " './wav/ADIZ',\n",
       " './wav/MPOL',\n",
       " './wav/JTAN',\n",
       " './wav/MPUR']"
      ]
     },
     "execution_count": 19,
     "metadata": {},
     "output_type": "execute_result"
    }
   ],
   "source": [
    "folder_path"
   ]
  }
 ],
 "metadata": {
  "kernelspec": {
   "display_name": "torch-gpu",
   "language": "python",
   "name": "python3"
  },
  "language_info": {
   "codemirror_mode": {
    "name": "ipython",
    "version": 3
   },
   "file_extension": ".py",
   "mimetype": "text/x-python",
   "name": "python",
   "nbconvert_exporter": "python",
   "pygments_lexer": "ipython3",
   "version": "3.9.16"
  },
  "orig_nbformat": 4
 },
 "nbformat": 4,
 "nbformat_minor": 2
}
