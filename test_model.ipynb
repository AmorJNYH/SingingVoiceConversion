{
 "cells": [
  {
   "cell_type": "code",
   "execution_count": 7,
   "metadata": {},
   "outputs": [],
   "source": [
    "import torch\n",
    "from torchsummary import summary\n",
    "from model import DNNmodel\n",
    "from torch.nn.utils.rnn import pad_packed_sequence,pack_sequence,pad_sequence"
   ]
  },
  {
   "cell_type": "code",
   "execution_count": 5,
   "metadata": {},
   "outputs": [],
   "source": [
    "device = torch.device('mps')"
   ]
  },
  {
   "cell_type": "code",
   "execution_count": 15,
   "metadata": {},
   "outputs": [
    {
     "name": "stdout",
     "output_type": "stream",
     "text": [
      "=================================================================\n",
      "Layer (type:depth-idx)                   Param #\n",
      "=================================================================\n",
      "├─LSTM: 1-1                              16\n",
      "├─Linear: 1-2                            2\n",
      "├─Dropout: 1-3                           --\n",
      "=================================================================\n",
      "Total params: 18\n",
      "Trainable params: 18\n",
      "Non-trainable params: 0\n",
      "=================================================================\n"
     ]
    },
    {
     "data": {
      "text/plain": [
       "=================================================================\n",
       "Layer (type:depth-idx)                   Param #\n",
       "=================================================================\n",
       "├─LSTM: 1-1                              16\n",
       "├─Linear: 1-2                            2\n",
       "├─Dropout: 1-3                           --\n",
       "=================================================================\n",
       "Total params: 18\n",
       "Trainable params: 18\n",
       "Non-trainable params: 0\n",
       "================================================================="
      ]
     },
     "execution_count": 15,
     "metadata": {},
     "output_type": "execute_result"
    }
   ],
   "source": [
    "mymodel = DNNmodel.DNNmodel()\n",
    "summary(mymodel)"
   ]
  },
  {
   "cell_type": "code",
   "execution_count": 21,
   "metadata": {},
   "outputs": [],
   "source": [
    "a = torch.randn((21000, 1, 1))\n",
    "x = mymodel(a)"
   ]
  },
  {
   "cell_type": "code",
   "execution_count": 22,
   "metadata": {},
   "outputs": [],
   "source": [
    "from dataset import dataloader\n",
    "import torch.utils.data as Data\n",
    "from torch.utils.data import Dataset, DataLoader\n",
    "import numpy as np"
   ]
  },
  {
   "cell_type": "code",
   "execution_count": 23,
   "metadata": {},
   "outputs": [],
   "source": [
    "\"\"\"\n",
    "test case: \n",
    "singer id: ADIZ\n",
    "song id: 01\n",
    "\"\"\"\n",
    "\n",
    "testclass = dataloader.ParallelData()\n",
    "testdatainfo, testsingersplit = testclass.__getitem__(\"ADIZ\")\n",
    "testdatasplit = testsingersplit[\"01\"] # 338, 21000\n",
    "train_loader = DataLoader(testdatasplit, batch_size=32, shuffle=True, drop_last=True)"
   ]
  },
  {
   "cell_type": "code",
   "execution_count": 32,
   "metadata": {},
   "outputs": [
    {
     "name": "stdout",
     "output_type": "stream",
     "text": [
      "0 torch.Size([32, 21000, 1])\n",
      "1 torch.Size([32, 21000, 1])\n",
      "2 torch.Size([32, 21000, 1])\n",
      "3 torch.Size([32, 21000, 1])\n",
      "4 torch.Size([32, 21000, 1])\n",
      "5 torch.Size([32, 21000, 1])\n",
      "6 torch.Size([32, 21000, 1])\n",
      "7 torch.Size([32, 21000, 1])\n",
      "8 torch.Size([32, 21000, 1])\n",
      "9 torch.Size([32, 21000, 1])\n"
     ]
    }
   ],
   "source": [
    "a = torch.Tensor(testdatasplit)\n",
    "b = torch.reshape(a, (338, 21000, 1))\n",
    "train_loader = DataLoader(b, batch_size=32, shuffle=True, drop_last=True)\n",
    "for i, data in enumerate(train_loader):\n",
    "    print(i, data.shape)"
   ]
  },
  {
   "cell_type": "code",
   "execution_count": 34,
   "metadata": {},
   "outputs": [
    {
     "ename": "RuntimeError",
     "evalue": "view size is not compatible with input tensor's size and stride (at least one dimension spans across two contiguous subspaces). Use .reshape(...) instead.",
     "output_type": "error",
     "traceback": [
      "\u001b[0;31m---------------------------------------------------------------------------\u001b[0m",
      "\u001b[0;31mRuntimeError\u001b[0m                              Traceback (most recent call last)",
      "Cell \u001b[0;32mIn[34], line 1\u001b[0m\n\u001b[0;32m----> 1\u001b[0m x \u001b[39m=\u001b[39m mymodel(data)\n",
      "File \u001b[0;32m~/miniforge3/envs/torch-gpu/lib/python3.9/site-packages/torch/nn/modules/module.py:1501\u001b[0m, in \u001b[0;36mModule._call_impl\u001b[0;34m(self, *args, **kwargs)\u001b[0m\n\u001b[1;32m   1496\u001b[0m \u001b[39m# If we don't have any hooks, we want to skip the rest of the logic in\u001b[39;00m\n\u001b[1;32m   1497\u001b[0m \u001b[39m# this function, and just call forward.\u001b[39;00m\n\u001b[1;32m   1498\u001b[0m \u001b[39mif\u001b[39;00m \u001b[39mnot\u001b[39;00m (\u001b[39mself\u001b[39m\u001b[39m.\u001b[39m_backward_hooks \u001b[39mor\u001b[39;00m \u001b[39mself\u001b[39m\u001b[39m.\u001b[39m_backward_pre_hooks \u001b[39mor\u001b[39;00m \u001b[39mself\u001b[39m\u001b[39m.\u001b[39m_forward_hooks \u001b[39mor\u001b[39;00m \u001b[39mself\u001b[39m\u001b[39m.\u001b[39m_forward_pre_hooks\n\u001b[1;32m   1499\u001b[0m         \u001b[39mor\u001b[39;00m _global_backward_pre_hooks \u001b[39mor\u001b[39;00m _global_backward_hooks\n\u001b[1;32m   1500\u001b[0m         \u001b[39mor\u001b[39;00m _global_forward_hooks \u001b[39mor\u001b[39;00m _global_forward_pre_hooks):\n\u001b[0;32m-> 1501\u001b[0m     \u001b[39mreturn\u001b[39;00m forward_call(\u001b[39m*\u001b[39;49margs, \u001b[39m*\u001b[39;49m\u001b[39m*\u001b[39;49mkwargs)\n\u001b[1;32m   1502\u001b[0m \u001b[39m# Do not call functions when jit is used\u001b[39;00m\n\u001b[1;32m   1503\u001b[0m full_backward_hooks, non_full_backward_hooks \u001b[39m=\u001b[39m [], []\n",
      "File \u001b[0;32m~/Desktop/MUSI 7100/Codes/SingingVoiceConversion/SingingVoiceConversion/model/DNNmodel.py:24\u001b[0m, in \u001b[0;36mDNNmodel.forward\u001b[0;34m(self, _x)\u001b[0m\n\u001b[1;32m     22\u001b[0m x, _ \u001b[39m=\u001b[39m \u001b[39mself\u001b[39m\u001b[39m.\u001b[39mlstm(_x) \u001b[39m# _x is input, size(seq_len, batch, input_size)\u001b[39;00m\n\u001b[1;32m     23\u001b[0m s, b, h \u001b[39m=\u001b[39m x\u001b[39m.\u001b[39mshape \u001b[39m# x is output, size(seq_len, batch, hidden_size)\u001b[39;00m\n\u001b[0;32m---> 24\u001b[0m x \u001b[39m=\u001b[39m x\u001b[39m.\u001b[39;49mview(s\u001b[39m*\u001b[39;49mb, h)\n\u001b[1;32m     25\u001b[0m x \u001b[39m=\u001b[39m \u001b[39mself\u001b[39m\u001b[39m.\u001b[39mlinear(x)\n\u001b[1;32m     26\u001b[0m x \u001b[39m=\u001b[39m x\u001b[39m.\u001b[39mview(s, b, \u001b[39m-\u001b[39m\u001b[39m1\u001b[39m)\n",
      "\u001b[0;31mRuntimeError\u001b[0m: view size is not compatible with input tensor's size and stride (at least one dimension spans across two contiguous subspaces). Use .reshape(...) instead."
     ]
    }
   ],
   "source": [
    "testmodel = DNNmodel.DNNmodel()\n",
    "x = mymodel(data)"
   ]
  },
  {
   "cell_type": "code",
   "execution_count": 36,
   "metadata": {},
   "outputs": [
    {
     "data": {
      "text/plain": [
       "1"
      ]
     },
     "execution_count": 36,
     "metadata": {},
     "output_type": "execute_result"
    }
   ],
   "source": [
    "s, b, h = x.shape\n",
    "h"
   ]
  }
 ],
 "metadata": {
  "kernelspec": {
   "display_name": "torch-gpu",
   "language": "python",
   "name": "python3"
  },
  "language_info": {
   "codemirror_mode": {
    "name": "ipython",
    "version": 3
   },
   "file_extension": ".py",
   "mimetype": "text/x-python",
   "name": "python",
   "nbconvert_exporter": "python",
   "pygments_lexer": "ipython3",
   "version": "3.9.16"
  },
  "orig_nbformat": 4
 },
 "nbformat": 4,
 "nbformat_minor": 2
}
